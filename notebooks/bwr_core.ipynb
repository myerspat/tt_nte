{
 "cells": [
  {
   "cell_type": "code",
   "execution_count": 1,
   "id": "115aa5b4",
   "metadata": {},
   "outputs": [],
   "source": [
    "%load_ext autoreload\n",
    "%autoreload 2\n",
    "\n",
    "import time\n",
    "\n",
    "import numpy as np\n",
    "import pandas as pd\n",
    "import matplotlib.pyplot as plt\n",
    "plt.rcParams[\"axes.grid\"] = True\n",
    "\n",
    "from tt_nte.benchmarks import bwr\n",
    "from tt_nte.methods import DiscreteOrdinates\n",
    "from tt_nte.solvers import AMEn, ALS"
   ]
  },
  {
   "cell_type": "code",
   "execution_count": 2,
   "id": "b1ae5dbf",
   "metadata": {},
   "outputs": [],
   "source": [
    "xs_server, geometry, ordinates = bwr(256, control_rod=False)"
   ]
  },
  {
   "cell_type": "code",
   "execution_count": null,
   "id": "591100b2",
   "metadata": {},
   "outputs": [],
   "source": [
    "start = time.time()\n",
    "SN = DiscreteOrdinates(\n",
    "    xs_server=xs_server,\n",
    "    geometry=geometry,\n",
    "    num_ordinates=ordinates.shape[0],\n",
    "    octant_ords=ordinates,\n",
    ")\n",
    "print(time.time() - start)"
   ]
  },
  {
   "cell_type": "code",
   "execution_count": null,
   "id": "1f72cc8b",
   "metadata": {},
   "outputs": [],
   "source": [
    "print(f\"H = {SN.H}\")\n",
    "print(f\"F = {SN.F}\")\n",
    "print(f\"S = {SN.S}\")"
   ]
  },
  {
   "cell_type": "code",
   "execution_count": null,
   "id": "ccae2404",
   "metadata": {},
   "outputs": [],
   "source": []
  }
 ],
 "metadata": {
  "kernelspec": {
   "display_name": "Python 3 (ipykernel)",
   "language": "python",
   "name": "python3"
  },
  "language_info": {
   "codemirror_mode": {
    "name": "ipython",
    "version": 3
   },
   "file_extension": ".py",
   "mimetype": "text/x-python",
   "name": "python",
   "nbconvert_exporter": "python",
   "pygments_lexer": "ipython3",
   "version": "3.10.12"
  }
 },
 "nbformat": 4,
 "nbformat_minor": 5
}
